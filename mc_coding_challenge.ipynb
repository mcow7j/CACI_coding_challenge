{
  "cells": [
    {
      "cell_type": "markdown",
      "metadata": {
        "id": "view-in-github",
        "colab_type": "text"
      },
      "source": [
        "<a href=\"https://colab.research.google.com/github/mcow7j/CACI_coding_challenge/blob/main/mc_coding_challenge.ipynb\" target=\"_parent\"><img src=\"https://colab.research.google.com/assets/colab-badge.svg\" alt=\"Open In Colab\"/></a>"
      ]
    },
    {
      "cell_type": "code",
      "execution_count": null,
      "metadata": {
        "id": "JGBabLMWo-im"
      },
      "outputs": [],
      "source": [
        "import pandas as pd\n",
        "import numpy as np\n",
        "import matplotlib.pyplot as plt\n",
        "from time import sleep"
      ]
    },
    {
      "cell_type": "code",
      "source": [
        "data_in_path = 'https://raw.githubusercontent.com/caci-idg/tech-away-day-22-coding-challenge/main/'"
      ],
      "metadata": {
        "id": "A0JgY3JNfpaR"
      },
      "execution_count": null,
      "outputs": []
    },
    {
      "cell_type": "code",
      "source": [
        "#import data only reading in columns you actually need\n",
        "offices = pd.read_csv(data_in_path +'candidate-offices.csv',usecols=['OFFICE_ID','DESCRIPTION'])\n",
        "cycle = pd.read_csv(data_in_path +'EMP_LOCATIONS_TO_TOP_1000_MSOA_CYCLING_MATRIX.csv')\n",
        "drive = pd.read_csv(data_in_path +'EMP_LOCATIONS_TO_TOP_1000_MSOA_MATRIX.csv',usecols=['DriveTime (Mins)','DriveDistance (Kilometres)'])\n",
        "pt = pd.read_csv(data_in_path +'EMP_LOCATIONS_TO_TOP_1000_MSOA_PTN_MATRIX.csv',usecols=['DRIVETIME','DRIVETIME_DISTANCE'])\n",
        "employeyes = pd.read_csv(data_in_path +'postal-sectors-employee-counts.csv',usecols=['POSTAL_SECTOR','EMP_COUNT'])\n",
        "co2_costs = {'drive':290,'cycle':0,'pt':100}"
      ],
      "metadata": {
        "id": "6It4pI0yfrw4"
      },
      "execution_count": null,
      "outputs": []
    },
    {
      "cell_type": "code",
      "source": [
        "#combine modes of transport data into 1 df with \n",
        "all = cycle.rename(columns={'DriveTime (Mins)':'Cycle Time'}).drop(columns = ['DriveDistance (Kilometres)'])\n",
        "all['Cycle Cost'] = 0 #co2_costs['cycle']\n",
        "all['Drive Time'] = drive['DriveTime (Mins)']\n",
        "all['Drive Cost'] = drive['DriveDistance (Kilometres)']*co2_costs['drive']\n",
        "all['PT Time'] = pt['DRIVETIME']\n",
        "all['PT Cost'] = pt['DRIVETIME_DISTANCE']*co2_costs['pt']"
      ],
      "metadata": {
        "id": "i0D7iiROfpfg"
      },
      "execution_count": null,
      "outputs": []
    },
    {
      "cell_type": "code",
      "source": [
        "#convert to numpy arrays\n",
        "time_array = all[['Cycle Time','Drive Time','PT Time']].to_numpy()\n",
        "cost_array = all[['Cycle Cost','Drive Cost','PT Cost']].to_numpy()"
      ],
      "metadata": {
        "id": "NUn40jA6hdjW"
      },
      "execution_count": null,
      "outputs": []
    },
    {
      "cell_type": "code",
      "source": [
        "min_time_index= np.argmin(time_array, axis=1)\n",
        "min_time_costs = np.zeros((858000,2)) #preallocate for effieceny\n",
        "\n",
        "#choose the mode of transport with shortest transport times, find the co2 cost for that journey as well\n",
        "#should really use the fact that \"Employees commuting time is 50% times more important than travel distance\" but it gets messy as both need rescaling/use some order based logic\n",
        "\n",
        "j=0\n",
        "for i in min_time_index:\n",
        "    time = time_array[j,i]\n",
        "    if time <2147483646:\n",
        "        min_time_costs[j,:] = [time,cost_array[j,i]]\n",
        "    j+=1"
      ],
      "metadata": {
        "id": "RkFDz3Tchdr0"
      },
      "execution_count": null,
      "outputs": []
    },
    {
      "cell_type": "code",
      "source": [
        "#ploy distrubtions to makew sure they are comparable \n",
        "plt.hist(min_time_costs[:,0], bins='auto') \n",
        "plt.title(\"time cost dist\")\n",
        "plt.show()\n",
        "\n",
        "plt.hist(min_time_costs[:,1], bins='auto') \n",
        "plt.title(\"co2 cost dist\")\n",
        "plt.show()"
      ],
      "metadata": {
        "colab": {
          "base_uri": "https://localhost:8080/",
          "height": 545
        },
        "id": "qEoPcSg6hezO",
        "outputId": "5e109959-8f2f-4f07-cf3a-9321a213c669"
      },
      "execution_count": null,
      "outputs": [
        {
          "output_type": "display_data",
          "data": {
            "text/plain": [
              "<Figure size 432x288 with 1 Axes>"
            ],
            "image/png": "[encoded data removed]"
          },
          "metadata": {
            "needs_background": "light"
          }
        },
        {
          "output_type": "display_data",
          "data": {
            "text/plain": [
              "<Figure size 432x288 with 1 Axes>"
            ],
            "image/png": "[encoded data removed]"
          },
          "metadata": {
            "needs_background": "light"
          }
        }
      ]
    },
    {
      "cell_type": "code",
      "source": [
        "#going to subtract mean and divide by s.d so they are comparable, so they can just be added toegther to work out cost \n",
        "#can do those as both distributions are vagly normal\n",
        "\n",
        "#work out mean and sdt\n",
        "mean = min_time_costs.mean(axis=0)\n",
        "sdt = np.std(min_time_costs,axis=0)\n",
        "\n",
        "#scale\n",
        "\n",
        "min_time_costs[:,0] = (min_time_costs[:,0]-mean[0])/sdt[0]\n",
        "min_time_costs[:,1] = (min_time_costs[:,1]-mean[1])/sdt[1]"
      ],
      "metadata": {
        "id": "FwPrLpakhe1d"
      },
      "execution_count": null,
      "outputs": []
    },
    {
      "cell_type": "code",
      "source": [
        "#ploy distrubtions to makew sure they are comparable \n",
        "plt.hist(min_time_costs[:,0], bins='auto') \n",
        "plt.title(\"time cost dist\")\n",
        "plt.show()\n",
        "\n",
        "plt.hist(min_time_costs[:,1], bins='auto') \n",
        "plt.title(\"co2 cost dist\")\n",
        "plt.show()"
      ],
      "metadata": {
        "colab": {
          "base_uri": "https://localhost:8080/",
          "height": 545
        },
        "id": "GKWZS7IZjwLe",
        "outputId": "5bc11caf-f2f5-413c-9304-a2918d5246d0"
      },
      "execution_count": null,
      "outputs": [
        {
          "output_type": "display_data",
          "data": {
            "text/plain": [
              "<Figure size 432x288 with 1 Axes>"
            ],
            "image/png": "[encoded data removed]"
          },
          "metadata": {
            "needs_background": "light"
          }
        },
        {
          "output_type": "display_data",
          "data": {
            "text/plain": [
              "<Figure size 432x288 with 1 Axes>"
            ],
            "image/png": "[encoded data removed]"
          },
          "metadata": {
            "needs_background": "light"
          }
        }
      ]
    },
    {
      "cell_type": "code",
      "source": [
        "all.drop(columns = ['Cycle Time',\n",
        "       'Cycle Cost', 'Drive Time', 'Drive Cost', 'PT Time', 'PT Cost'],inplace=True)\n",
        "\n",
        "all['cost'] = min_time_costs.sum(axis=1)"
      ],
      "metadata": {
        "id": "l0-JNJ8-hdzE"
      },
      "execution_count": null,
      "outputs": []
    },
    {
      "cell_type": "code",
      "source": [
        "employeyes_clean = employeyes[employeyes['EMP_COUNT']>1] #find locations where more then 1 emplee to reduce work of the merge"
      ],
      "metadata": {
        "id": "-L34bLjej_9m"
      },
      "execution_count": null,
      "outputs": []
    },
    {
      "cell_type": "code",
      "source": [
        "all_2 = all.merge(employeyes_clean,how='left',left_on='Origin',right_on='POSTAL_SECTOR').drop(columns=['POSTAL_SECTOR']) #I checked every that at least 1 employee lives at every orgin\n",
        "all_2['employ weight'] = all_2['EMP_COUNT'].fillna(1) \n",
        "all_2['cost'] =all_2['cost']*all_2['employ weight'] #update cost to be represent postcode populations "
      ],
      "metadata": {
        "id": "m1Eb2SshkCYN"
      },
      "execution_count": null,
      "outputs": []
    },
    {
      "cell_type": "code",
      "source": [
        "cost_by_location = all_2[['Destination','cost']].groupby('Destination').agg(Sum=('cost', 'sum')).rename(columns={'Sum':'Overall Cost'})\n",
        "cost_by_location = cost_by_location.merge(offices,how='left',left_on='Destination',right_on='OFFICE_ID')\n",
        "cost_by_location = cost_by_location[cost_by_location['DESCRIPTION']!='Isle of Wight 012']  # it turns out isle of wight is inacceaasble so has zero costs so has a very negative cost. other wise best location by a long shot is isle of white\n",
        "best_location_id = cost_by_location['Overall Cost'].idxmin() #best location"
      ],
      "metadata": {
        "id": "3cfLw1LzkEpG"
      },
      "execution_count": null,
      "outputs": []
    },
    {
      "cell_type": "code",
      "source": [
        "print(\"And the best location is.............\" )\n",
        "sleep(2)\n",
        "print('drum roll pls')\n",
        "sleep(2)\n",
        "print('and more drum roll')\n",
        "sleep(2)\n",
        "print(cost_by_location['DESCRIPTION'][best_location_id], 'with office ID {}'.format(cost_by_location['OFFICE_ID'][best_location_id]))"
      ],
      "metadata": {
        "colab": {
          "base_uri": "https://localhost:8080/"
        },
        "id": "qZB7WtgYkY39",
        "outputId": "e40c587d-626a-4cc4-a886-ad79708c7f8c"
      },
      "execution_count": null,
      "outputs": [
        {
          "output_type": "stream",
          "name": "stdout",
          "text": [
            "And the best location is.............\n",
            "drum roll pls\n",
            "and more drum roll\n",
            "Westminster 008 with office ID E02000967\n"
          ]
        }
      ]
    },
    {
      "cell_type": "code",
      "source": [
        "print(\"Top 10 Locations are: \" )\n",
        "cost_by_location.nsmallest(10, 'Overall Cost')"
      ],
      "metadata": {
        "colab": {
          "base_uri": "https://localhost:8080/",
          "height": 380
        },
        "id": "uXF7mN9gkHsG",
        "outputId": "8ab7b3a7-950a-4277-af8c-74102db5ffe9"
      },
      "execution_count": null,
      "outputs": [
        {
          "output_type": "stream",
          "name": "stdout",
          "text": [
            "Top 10 Locations are: \n"
          ]
        },
        {
          "output_type": "execute_result",
          "data": {
            "text/plain": [
              "     Overall Cost  OFFICE_ID        DESCRIPTION\n",
              "190  -1757.941975  E02000967    Westminster 008\n",
              "50   -1757.887156  E02000191         Camden 026\n",
              "195  -1745.340263  E02000972    Westminster 013\n",
              "176  -1737.328699  E02000924     Wandsworth 002\n",
              "198  -1734.809301  E02000975    Westminster 016\n",
              "924  -1732.990569  E02006853  Tower Hamlets 032\n",
              "149  -1730.367895  E02000813      Southwark 007\n",
              "152  -1724.960559  E02000820      Southwark 014\n",
              "197  -1719.544978  E02000974    Westminster 015\n",
              "911  -1717.862489  E02006801        Lambeth 036"
            ],
            "text/html": [
              "\n",
              "  <div id=\"df-22380d7d-9690-44df-bed4-6325d4d133a1\">\n",
              "    <div class=\"colab-df-container\">\n",
              "      <div>\n",
              "<style scoped>\n",
              "    .dataframe tbody tr th:only-of-type {\n",
              "        vertical-align: middle;\n",
              "    }\n",
              "\n",
              "    .dataframe tbody tr th {\n",
              "        vertical-align: top;\n",
              "    }\n",
              "\n",
              "    .dataframe thead th {\n",
              "        text-align: right;\n",
              "    }\n",
              "</style>\n",
              "<table border=\"1\" class=\"dataframe\">\n",
              "  <thead>\n",
              "    <tr style=\"text-align: right;\">\n",
              "      <th></th>\n",
              "      <th>Overall Cost</th>\n",
              "      <th>OFFICE_ID</th>\n",
              "      <th>DESCRIPTION</th>\n",
              "    </tr>\n",
              "  </thead>\n",
              "  <tbody>\n",
              "    <tr>\n",
              "      <th>190</th>\n",
              "      <td>-1757.941975</td>\n",
              "      <td>E02000967</td>\n",
              "      <td>Westminster 008</td>\n",
              "    </tr>\n",
              "    <tr>\n",
              "      <th>50</th>\n",
              "      <td>-1757.887156</td>\n",
              "      <td>E02000191</td>\n",
              "      <td>Camden 026</td>\n",
              "    </tr>\n",
              "    <tr>\n",
              "      <th>195</th>\n",
              "      <td>-1745.340263</td>\n",
              "      <td>E02000972</td>\n",
              "      <td>Westminster 013</td>\n",
              "    </tr>\n",
              "    <tr>\n",
              "      <th>176</th>\n",
              "      <td>-1737.328699</td>\n",
              "      <td>E02000924</td>\n",
              "      <td>Wandsworth 002</td>\n",
              "    </tr>\n",
              "    <tr>\n",
              "      <th>198</th>\n",
              "      <td>-1734.809301</td>\n",
              "      <td>E02000975</td>\n",
              "      <td>Westminster 016</td>\n",
              "    </tr>\n",
              "    <tr>\n",
              "      <th>924</th>\n",
              "      <td>-1732.990569</td>\n",
              "      <td>E02006853</td>\n",
              "      <td>Tower Hamlets 032</td>\n",
              "    </tr>\n",
              "    <tr>\n",
              "      <th>149</th>\n",
              "      <td>-1730.367895</td>\n",
              "      <td>E02000813</td>\n",
              "      <td>Southwark 007</td>\n",
              "    </tr>\n",
              "    <tr>\n",
              "      <th>152</th>\n",
              "      <td>-1724.960559</td>\n",
              "      <td>E02000820</td>\n",
              "      <td>Southwark 014</td>\n",
              "    </tr>\n",
              "    <tr>\n",
              "      <th>197</th>\n",
              "      <td>-1719.544978</td>\n",
              "      <td>E02000974</td>\n",
              "      <td>Westminster 015</td>\n",
              "    </tr>\n",
              "    <tr>\n",
              "      <th>911</th>\n",
              "      <td>-1717.862489</td>\n",
              "      <td>E02006801</td>\n",
              "      <td>Lambeth 036</td>\n",
              "    </tr>\n",
              "  </tbody>\n",
              "</table>\n",
              "</div>\n",
              "      <button class=\"colab-df-convert\" onclick=\"convertToInteractive('df-22380d7d-9690-44df-bed4-6325d4d133a1')\"\n",
              "              title=\"Convert this dataframe to an interactive table.\"\n",
              "              style=\"display:none;\">\n",
              "        \n",
              "  <svg xmlns=\"http://www.w3.org/2000/svg\" height=\"24px\"viewBox=\"0 0 24 24\"\n",
              "       width=\"24px\">\n",
              "    <path d=\"M0 0h24v24H0V0z\" fill=\"none\"/>\n",
              "    <path d=\"M18.56 5.44l.94 2.06.94-2.06 2.06-.94-2.06-.94-.94-2.06-.94 2.06-2.06.94zm-11 1L8.5 8.5l.94-2.06 2.06-.94-2.06-.94L8.5 2.5l-.94 2.06-2.06.94zm10 10l.94 2.06.94-2.06 2.06-.94-2.06-.94-.94-2.06-.94 2.06-2.06.94z\"/><path d=\"M17.41 7.96l-1.37-1.37c-.4-.4-.92-.59-1.43-.59-.52 0-1.04.2-1.43.59L10.3 9.45l-7.72 7.72c-.78.78-.78 2.05 0 2.83L4 21.41c.39.39.9.59 1.41.59.51 0 1.02-.2 1.41-.59l7.78-7.78 2.81-2.81c.8-.78.8-2.07 0-2.86zM5.41 20L4 18.59l7.72-7.72 1.47 1.35L5.41 20z\"/>\n",
              "  </svg>\n",
              "      </button>\n",
              "      \n",
              "  <style>\n",
              "    .colab-df-container {\n",
              "      display:flex;\n",
              "      flex-wrap:wrap;\n",
              "      gap: 12px;\n",
              "    }\n",
              "\n",
              "    .colab-df-convert {\n",
              "      background-color: #E8F0FE;\n",
              "      border: none;\n",
              "      border-radius: 50%;\n",
              "      cursor: pointer;\n",
              "      display: none;\n",
              "      fill: #1967D2;\n",
              "      height: 32px;\n",
              "      padding: 0 0 0 0;\n",
              "      width: 32px;\n",
              "    }\n",
              "\n",
              "    .colab-df-convert:hover {\n",
              "      background-color: #E2EBFA;\n",
              "      box-shadow: 0px 1px 2px rgba(60, 64, 67, 0.3), 0px 1px 3px 1px rgba(60, 64, 67, 0.15);\n",
              "      fill: #174EA6;\n",
              "    }\n",
              "\n",
              "    [theme=dark] .colab-df-convert {\n",
              "      background-color: #3B4455;\n",
              "      fill: #D2E3FC;\n",
              "    }\n",
              "\n",
              "    [theme=dark] .colab-df-convert:hover {\n",
              "      background-color: #434B5C;\n",
              "      box-shadow: 0px 1px 3px 1px rgba(0, 0, 0, 0.15);\n",
              "      filter: drop-shadow(0px 1px 2px rgba(0, 0, 0, 0.3));\n",
              "      fill: #FFFFFF;\n",
              "    }\n",
              "  </style>\n",
              "\n",
              "      <script>\n",
              "        const buttonEl =\n",
              "          document.querySelector('#df-22380d7d-9690-44df-bed4-6325d4d133a1 button.colab-df-convert');\n",
              "        buttonEl.style.display =\n",
              "          google.colab.kernel.accessAllowed ? 'block' : 'none';\n",
              "\n",
              "        async function convertToInteractive(key) {\n",
              "          const element = document.querySelector('#df-22380d7d-9690-44df-bed4-6325d4d133a1');\n",
              "          const dataTable =\n",
              "            await google.colab.kernel.invokeFunction('convertToInteractive',\n",
              "                                                     [key], {});\n",
              "          if (!dataTable) return;\n",
              "\n",
              "          const docLinkHtml = 'Like what you see? Visit the ' +\n",
              "            '<a target=\"_blank\" href=https://colab.research.google.com/notebooks/data_table.ipynb>data table notebook</a>'\n",
              "            + ' to learn more about interactive tables.';\n",
              "          element.innerHTML = '';\n",
              "          dataTable['output_type'] = 'display_data';\n",
              "          await google.colab.output.renderOutput(dataTable, element);\n",
              "          const docLink = document.createElement('div');\n",
              "          docLink.innerHTML = docLinkHtml;\n",
              "          element.appendChild(docLink);\n",
              "        }\n",
              "      </script>\n",
              "    </div>\n",
              "  </div>\n",
              "  "
            ]
          },
          "metadata": {},
          "execution_count": 15
        }
      ]
    }
  ],
  "metadata": {
    "colab": {
      "name": "mc_coding_challenge.ipynb",
      "provenance": [],
      "collapsed_sections": [],
      "authorship_tag": "ABX9TyP8jZBKjqXbGgcTz0xEU8cg",
      "include_colab_link": true
    },
    "kernelspec": {
      "display_name": "Python 3",
      "name": "python3"
    },
    "language_info": {
      "name": "python"
    }
  },
  "nbformat": 4,
  "nbformat_minor": 0
}